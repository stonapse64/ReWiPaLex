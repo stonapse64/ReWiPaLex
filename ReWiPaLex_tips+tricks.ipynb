{
 "cells": [
  {
   "cell_type": "markdown",
   "metadata": {},
   "source": [
    "## ReWiPaLex - tips and tricks\n",
    "\n",
    "Repository of wisdom and painful lessons with Python, Jupyter and Windows\n",
    "\n",
    "Created by Andreas Stein, December 2024"
   ]
  },
  {
   "cell_type": "markdown",
   "metadata": {},
   "source": [
    "### Vertical ruler in Visual Studio Code\n",
    "\n",
    "- Go to File > Preferences > Settings (short: `CTRL ,`)\n",
    "- Search for \"rulers\"\n",
    "- Click \"Edit in settings.json\"\n",
    "\n",
    "This will open an editor window:\n",
    "\n",
    "```\n",
    "{\n",
    "    \"git.autofetch\": true,\n",
    "    \"git.enableSmartCommit\": true,\n",
    "    \"git.confirmSync\": false,\n",
    "    \"editor.rulers\": [\n",
    "        \n",
    "    ]\n",
    "}\n",
    "```\n",
    "\n",
    "Add the number of desired chars to the empty line between the [].\n",
    "\n",
    "Note: this is workspace specific and not a global setting.\n",
    "\n"
   ]
  },
  {
   "cell_type": "markdown",
   "metadata": {},
   "source": []
  }
 ],
 "metadata": {
  "language_info": {
   "name": "python"
  }
 },
 "nbformat": 4,
 "nbformat_minor": 2
}
