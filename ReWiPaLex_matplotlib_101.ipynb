{
 "cells": [
  {
   "cell_type": "markdown",
   "metadata": {},
   "source": [
    "## ReWiPaLex - Tips and Tricks\n",
    "\n",
    "Repository of wisdom and painful lessons with Python, Jupyter, Linux and Windows\n",
    "\n",
    "This notebook holds some general tips and tricks.\n",
    "\n",
    "Created by Andreas Stein, December 2024"
   ]
  },
  {
   "cell_type": "markdown",
   "metadata": {},
   "source": [
    "### Vertical ruler in Visual Studio Code\n",
    "\n",
    "- Go to File > Preferences > Settings (short: `CTRL ,`)\n",
    "- Search for \"rulers\"\n",
    "- Click \"Edit in settings.json\"\n",
    "\n",
    "This will open an editor window:\n",
    "\n",
    "```\n",
    "{\n",
    "    \"git.autofetch\": true,\n",
    "    \"git.enableSmartCommit\": true,\n",
    "    \"git.confirmSync\": false,\n",
    "    \"editor.rulers\": [\n",
    "        \n",
    "    ]\n",
    "}\n",
    "```\n",
    "\n",
    "Add the number of desired chars to the empty line between the [].\n",
    "\n",
    "Note: this is workspace specific and not a global setting.\n",
    "\n"
   ]
  },
  {
   "cell_type": "markdown",
   "metadata": {},
   "source": [
    "### .gitignore\n",
    "\n",
    "The purpose of .gitignore files is to ensure that certain files not tracked by Git remain untracked.\n",
    "\n",
    "To stop tracking a file that is currently tracked, use `git rm --cached <filename>` to remove the file from the index. The filename can then be added to the .gitignore file to stop the file from being reintroduced in later commits.\n",
    "\n",
    "See official documentation [here](https://git-scm.com/docs/gitignore)."
   ]
  },
  {
   "cell_type": "markdown",
   "metadata": {},
   "source": [
    "### Backup/ restore a Python virtualenv\n",
    "\n",
    "Just freeze the environment into a text file and install from it later:\n",
    "\n",
    "```\n",
    "pip freeze > requirements.txt\n",
    "pip install -r requirements.txt\n",
    "```\n"
   ]
  },
  {
   "cell_type": "markdown",
   "metadata": {},
   "source": []
  }
 ],
 "metadata": {
  "language_info": {
   "name": "python"
  }
 },
 "nbformat": 4,
 "nbformat_minor": 2
}
