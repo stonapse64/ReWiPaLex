{
 "cells": [
  {
   "cell_type": "markdown",
   "metadata": {},
   "source": [
    "# `defaultdict`\n",
    "\n",
    "A `defaultdict` is a subclass of the built-in `dict` class in Python. It provides a way to create a dictionary-like object that has a default value for missing keys.\n",
    "\n",
    "The main difference between a regular `dict` and a `defaultdict` is that when you try to access a key that doesn't exist in a regular `dict`, you'll get a `KeyError`. With a `defaultdict`, you can specify a default value that will be returned instead.\n",
    "\n",
    "Here's an example of how to use a `defaultdict`:\n",
    "\n",
    "```python\n",
    "from collections import defaultdict\n",
    "\n",
    "# Create a defaultdict with a default value of 0\n",
    "d = defaultdict(int)\n",
    "\n",
    "# Add some values to the dictionary\n",
    "d['apple'] = 2\n",
    "d['banana'] = 3\n",
    "\n",
    "# Access a key that doesn't exist\n",
    "print(d['orange'])  # Output: 0\n",
    "\n",
    "# The default value is automatically created and assigned\n",
    "print(d)  # Output: defaultdict(<class 'int'>, {'apple': 2, 'banana': 3, 'orange': 0})\n",
    "```\n",
    "\n",
    "In the example above, when we try to access the key `'orange'`, which doesn't exist in the dictionary, the `defaultdict` automatically creates a new key-value pair with the default value of `0`.\n",
    "\n",
    "The default value can be any callable object, such as a function or a class. This allows you to create more complex default values, such as empty lists or sets.\n",
    "\n",
    "```python\n",
    "d = defaultdict(list)\n",
    "d['fruits'].append('apple')\n",
    "d['fruits'].append('banana')\n",
    "print(d)  # Output: defaultdict(<class 'list'>, {'fruits': ['apple', 'banana']})\n",
    "```\n",
    "\n",
    "`defaultdict` is useful when you need to perform operations on missing keys without having to check if the key exists first. It can help simplify your code and make it more concise."
   ]
  }
 ],
 "metadata": {
  "language_info": {
   "name": "python"
  }
 },
 "nbformat": 4,
 "nbformat_minor": 2
}
