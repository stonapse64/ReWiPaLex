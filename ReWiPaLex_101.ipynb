{
 "cells": [
  {
   "cell_type": "markdown",
   "metadata": {},
   "source": [
    "## ReWiPaLex 101\n",
    "#### Repository of wisdom and painful lessons with Python, Jupyter and Windows\n",
    "\n",
    "Created by Andreas Stein, March 2024\n",
    "Updated by Andreas Stein, December 2024"
   ]
  },
  {
   "cell_type": "code",
   "execution_count": 1,
   "metadata": {},
   "outputs": [],
   "source": [
    "#hide\n",
    "! pip install -Uqq ipykernel"
   ]
  },
  {
   "cell_type": "markdown",
   "metadata": {},
   "source": [
    "#### Introduction\n",
    "This is a collection of learnings that I made during my learning journey with data science and machine learning during 2024. I consider myself a beginner in these fields and the learning curve was and still is steep, mostly joyful but sometimes joyful and painful at the same time.\n",
    "\n",
    "My learning journey consists of three main courses plus a good dozen of books and some papers here and there:\n",
    "1. [fast.ai: Practical Deep Learning for Coders](https://course.fast.ai/)\n",
    "2. [fast.ai: Practical Deep Learning for Coders part 2: From Deep Learning Foundations to Stable Diffusion](https://course.fast.ai/Lessons/part2.html)\n",
    "3. [Hugging Face: Deep Reinforcement Learning Course](https://huggingface.co/learn/deep-rl-course/unit0/introduction)\n",
    "\n",
    "\n",
    "\n",
    "Over some weeks I came up with some stable procedures to set up my three machines (@work, @coding, @GPU) on Windows 10 and 11 for data science and machine learning projects REPRODUCIBLY.\n",
    "\n",
    "To cut it short: I write this notebook to not forget the learnings and to have a hands-on guide."
   ]
  },
  {
   "cell_type": "markdown",
   "metadata": {},
   "source": [
    "#### Preparation of local machine\n",
    "- Install Python from [python.org](https://www.python.org/)\n",
    "- Install Visual Studio Code from the Microsoft Store\n",
    "- Launch Visual Studio Code and install the following extensions from the Extensions Marketplace (CTRL+SHIFT+G)\n",
    "    - Install Python extension for Visual Studio Code from install the Extensions Marketplace (CTRL+SHIFT+G)\n",
    "    - Install Python Debugger extension for Visual Studio Code. Should be done with previous step already, but check it."
   ]
  },
  {
   "cell_type": "markdown",
   "metadata": {},
   "source": [
    "#### Create a new project\n",
    "\n",
    "**Remote @github: create a repository**\n",
    "- Create a new repository or clone an existing repository\n",
    "\n",
    "**Local machine @Git Bash: clone your project locally**\n",
    "- Navigate to the parent target directory and clone the repository with the command:\n",
    "\n",
    "    `git clone https://github.com/stonapse64/ReWiPaLex.git`\n",
    "\n",
    "**Local machine @Terminal: create a virtual environment**\n",
    "\n",
    "I have been trying different approaches to manage my virtual environments like pip, Conda, Miniconda and Anaconda both and purebred. For me, the common denominator across my three systems turned out to be pip.\n",
    "\n",
    "- Open a terminal and navigate to the project's directory\n",
    "- Create a venv and activate it with the two following terminal statements:\n",
    "    - `python -m venv .venv`\n",
    "    - `.venv\\Scripts\\activate`\n",
    "- .venv is the name of your virtual environment. You can change it to your liking in the statement but I prefer the same name .venv in all my projects.\n",
    "- Create a .gitignore file (plain text w/o any .suffix) with * in the first line in the .venv directory. This way your venv files (will be thousands) will not be pushed to github.\n",
    "\n",
    "See [venv — Creation of virtual environments](https://docs.python.org/3/library/venv.html) for more details on using virtual environments.\n",
    "\n",
    "**Local machine @Visual Studio Code: project setup in Visual Studio Code**\n",
    "\n",
    "- File > Add Folder to Workspace > navigate to the project's folder and select it\n",
    "- File > Save Workspace As... I would not change the name suggested by Visual Studio Code.\n",
    "- File > New File > Jupyter Notebook\n",
    "- Choose the kernel of the active environment on the right end of the editor tab. It should say .venv (Python + version) .venv/Scripts/python.exe\n",
    "- File > Save As... \n",
    "- Commit and push the project to GitHub\n",
    "\n",
    "No you can launch your project by double-clicking on the YourFolder.code-workspace file with the environment and kernel already activated. This is, as long as you don't close the editor of the Jupyter notebook.\n"
   ]
  },
  {
   "cell_type": "markdown",
   "metadata": {},
   "source": [
    "#### Thoughts on reproducibility of virtual environments\n",
    "\n",
    "I really had a hard time to figure out how I can best reproduce a virtual environment across machines. I tried to use a requirement.txt with `python -m pip freeze > requirements.txt` but I failed due to exceptions being raised although in theory this should not happen (???).\n",
    "\n",
    "Another thing that I noticed is that each edit and execution of a Jupyter notebook has its own \"dynamic\" meaning you start to pip install required libraries as you code and experiment. Then, the later me doesn't remember what it did like two hours or two days ago and the mess starts to grow especially across different machines.\n",
    "\n",
    "I came up with a couple of approaches to solve this issue:\n",
    "- Use only one machine for a given project. Don't try to fetch and work on it here and there. If you absolutely need to, follow the recommendations of the next list items.\n",
    "- Do the pip installs only from code cells of your Jupyter notebook as bash commands using the syntax `! pip install NameOfLibrary` and never delete these cells. This way you have a protocol of your installs. See the [pip documentation](https://pip.pypa.io/en/stable/) for further arguments other than the name of the library.\n",
    "- Do these pip installs in the cell or the cell before where you needed a library first and comment on your decision to install it. This way you know why you installed a library.\n",
    "- After the initial installation replace the pip command with `! pip install -Uqq NameOfLibrary`. This way the installation is updated to the latest version every time you run the notebook / that cell. If you have dependencies and absolutely need a specific version use the syntax `pip install package==version`.\n",
    "\n",
    "I suppose that a seasoned Python pro can do this better. But as of now, this is my ground of truth...\n"
   ]
  },
  {
   "cell_type": "markdown",
   "metadata": {},
   "source": []
  }
 ],
 "metadata": {
  "kernelspec": {
   "display_name": ".venv",
   "language": "python",
   "name": "python3"
  },
  "language_info": {
   "codemirror_mode": {
    "name": "ipython",
    "version": 3
   },
   "file_extension": ".py",
   "mimetype": "text/x-python",
   "name": "python",
   "nbconvert_exporter": "python",
   "pygments_lexer": "ipython3",
   "version": "3.12.2"
  }
 },
 "nbformat": 4,
 "nbformat_minor": 2
}
